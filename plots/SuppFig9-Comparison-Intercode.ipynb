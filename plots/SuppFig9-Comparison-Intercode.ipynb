{
 "cells": [
  {
   "cell_type": "code",
   "execution_count": 1,
   "metadata": {},
   "outputs": [],
   "source": [
    "import torch\n",
    "import sys\n",
    "sys.path.append('../vega/')\n",
    "import vega\n",
    "import scanpy as sc\n",
    "import scvi\n",
    "from scipy import sparse\n",
    "from sklearn import preprocessing\n",
    "import numpy as np\n",
    "from intercode import Intercode\n",
    "\n",
    "import matplotlib.pyplot as plt\n",
    "import matplotlib\n",
    "import seaborn as sns\n",
    "path_to_save = '../paper/figures/regression_latent/'\n",
    "if not os.path.exists(path_to_save):\n",
    "    os.makedirs(path_to_save)\n",
    "font = {'family' : 'Arial',\n",
    "        'size'   : 14}\n",
    "matplotlib.rcParams['pdf.fonttype'] = 42\n",
    "matplotlib.rcParams['ps.fonttype'] = 42\n",
    "matplotlib.rcParams['axes.linewidth'] = .5\n",
    "matplotlib.rcParams['lines.linewidth'] = .5\n",
    "matplotlib.rcParams['patch.linewidth'] = .5\n",
    "matplotlib.rc('font', **font)\n",
    "matplotlib.rc('ytick', labelsize=14)\n",
    "matplotlib.rc('xtick', labelsize=14)\n",
    "# Scanpy figures params\n",
    "sc.set_figure_params(dpi_save=300)\n",
    "sc.settings.figdir = path_to_save"
   ]
  },
  {
   "cell_type": "code",
   "execution_count": 2,
   "metadata": {},
   "outputs": [
    {
     "name": "stdout",
     "output_type": "stream",
     "text": [
      "Using masked decoder\n",
      "Constraining decoder to positive weights\n",
      "Model successfully loaded.\n",
      "Inserting terms' names and activities to the Anndata object.\n"
     ]
    }
   ],
   "source": [
    "# Reload model and data\n",
    "model_vega = vega.VEGA.load('../trained_models/vega_model/')\n",
    "model_intercode = Intercode.load('../trained_models/intercode_model/', adata=model_vega.adata)"
   ]
  },
  {
   "cell_type": "code",
   "execution_count": 3,
   "metadata": {},
   "outputs": [],
   "source": [
    "import pandas as pd\n",
    "df_intercode = pd.DataFrame(data=model_intercode.encode(model_vega.adata.X.A),\n",
    "                           columns = model_vega.adata.uns['_vega']['gmv_names'],\n",
    "                           index=np.arange(len(model_vega.adata)))\n",
    "df_vega = pd.DataFrame(data=model_vega.to_latent(model_vega.adata, return_mean=True),\n",
    "                    columns=model_vega.adata.uns['_vega']['gmv_names'],\n",
    "                    index=np.arange(len(model_vega.adata)))\n"
   ]
  },
  {
   "cell_type": "code",
   "execution_count": 6,
   "metadata": {},
   "outputs": [],
   "source": [
    "list_pathways = ['REACTOME_CYTOKINE_SIGNALING_IN_IMMUNE_SYSTEM',\n",
    "                'REACTOME_ANTIVIRAL_MECHANISM_BY_IFN_STIMULATED_GENES',\n",
    "                 'REACTOME_INTERFERON_ALPHA_BETA_SIGNALING',\n",
    "                 'REACTOME_INTERFERON_SIGNALING'\n",
    "                ]\n",
    "model_dict = {'VEGA':df_vega, 'Intercode':df_intercode}\n",
    "res_dict = {'VEGA':{'Accuracy':[], 'Pathway':[]}, 'Intercode':{'Accuracy':[], 'Pathway':[]}}\n",
    "from sklearn.linear_model import LogisticRegression\n",
    "y = model_vega.adata.obs['condition'].values\n",
    "for m in model_dict:\n",
    "    for p in list_pathways:\n",
    "        X = model_dict[m][p].values.reshape(-1, 1)\n",
    "        cls = LogisticRegression(random_state=42)\n",
    "        cls.fit(X,y)\n",
    "        score = cls.score(X,y)\n",
    "        res_dict[m]['Accuracy'].append(score)\n",
    "        res_dict[m]['Pathway'].append('_'.join(p.split('_')[1:]))\n"
   ]
  },
  {
   "cell_type": "code",
   "execution_count": 7,
   "metadata": {},
   "outputs": [],
   "source": [
    "res_vega = pd.DataFrame(res_dict['VEGA'])\n",
    "res_vega['Model'] = 'VEGA'\n",
    "res_intercode = pd.DataFrame(res_dict['Intercode'])\n",
    "res_intercode['Model'] = 'Intercode'\n",
    "res = pd.concat([res_vega, res_intercode])"
   ]
  },
  {
   "cell_type": "code",
   "execution_count": 10,
   "metadata": {},
   "outputs": [
    {
     "data": {
      "image/png": "[encoded data removed]",
      "text/plain": [
       "<Figure size 320x320 with 1 Axes>"
      ]
     },
     "metadata": {
      "needs_background": "light"
     },
     "output_type": "display_data"
    }
   ],
   "source": [
    "bplt = sns.barplot(data=res, y='Pathway', x='Accuracy', hue='Model')\n",
    "plt.grid(False)\n",
    "plt.ylabel('')\n",
    "plt.yticks(fontsize=10)\n",
    "plt.legend(title='', bbox_to_anchor=(1.05, 1), loc='upper left', frameon=False)\n",
    "plt.savefig(path_to_save+'intercode_vega_comparison.pdf', format='pdf', dpi=300, bbox_inches='tight')"
   ]
  },
  {
   "cell_type": "code",
   "execution_count": 32,
   "metadata": {},
   "outputs": [
    {
     "name": "stdout",
     "output_type": "stream",
     "text": [
      "Mean Accuracy VEGA: 0.9814633241467033\n",
      "Mean Accuracy Intercode: 0.9085576991025368\n"
     ]
    }
   ],
   "source": [
    "print('Mean Accuracy VEGA:', np.mean(res['Accuracy'][:4]))\n",
    "print('Mean Accuracy Intercode:', np.mean(res['Accuracy'][5:]))"
   ]
  },
  {
   "cell_type": "code",
   "execution_count": 20,
   "metadata": {},
   "outputs": [],
   "source": [
    "# Run time per epochs\n",
    "with open('../trained_models/vega_time.txt', 'r') as f:\n",
    "    l = f.readlines()\n",
    "    for line in l:\n",
    "        t_vega = float(line.split(':')[-1])\n",
    "        \n",
    "with open('../trained_models/intercode_time.txt', 'r') as f:\n",
    "    l = f.readlines()\n",
    "    for line in l:\n",
    "        t_inter = float(line.split(':')[-1])"
   ]
  },
  {
   "cell_type": "code",
   "execution_count": 26,
   "metadata": {},
   "outputs": [
    {
     "data": {
      "image/png": "[encoded data removed]",
      "text/plain": [
       "<Figure size 320x320 with 1 Axes>"
      ]
     },
     "metadata": {
      "needs_background": "light"
     },
     "output_type": "display_data"
    }
   ],
   "source": [
    "plt.grid(False)\n",
    "tpe = np.array([t_vega, t_inter])/len(model_vega.epoch_history['train_loss'])\n",
    "plt.bar(x=['VEGA', 'Intercode'], height=tpe)\n",
    "plt.ylabel('Time per epoch (s)')\n",
    "#plt.savefig(path_to_save+'intercode_vega_time.pdf', format='pdf', dpi=300, bbox_inches='tight')"
   ]
  }
 ],
 "metadata": {
  "kernelspec": {
   "display_name": "Python 3",
   "language": "python",
   "name": "python3"
  },
  "language_info": {
   "codemirror_mode": {
    "name": "ipython",
    "version": 3
   },
   "file_extension": ".py",
   "mimetype": "text/x-python",
   "name": "python",
   "nbconvert_exporter": "python",
   "pygments_lexer": "ipython3",
   "version": "3.7.6"
  }
 },
 "nbformat": 4,
 "nbformat_minor": 4
}
