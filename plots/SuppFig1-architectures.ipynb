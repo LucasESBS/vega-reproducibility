{
 "cells": [
  {
   "cell_type": "code",
   "execution_count": 1,
   "metadata": {},
   "outputs": [
    {
     "name": "stderr",
     "output_type": "stream",
     "text": [
      "/home/ubuntu/anaconda3/envs/torch_env/lib/python3.6/site-packages/anndata/compat/__init__.py:161: FutureWarning: Moving element from .uns['neighbors']['distances'] to .obsp['distances'].\n",
      "\n",
      "This is where adjacency matrices should go now.\n",
      "  FutureWarning,\n",
      "/home/ubuntu/anaconda3/envs/torch_env/lib/python3.6/site-packages/anndata/compat/__init__.py:161: FutureWarning: Moving element from .uns['neighbors']['connectivities'] to .obsp['connectivities'].\n",
      "\n",
      "This is where adjacency matrices should go now.\n",
      "  FutureWarning,\n"
     ]
    }
   ],
   "source": [
    "import sys\n",
    "import os\n",
    "sys.path.append('../src/')\n",
    "from old_vega import VEGA\n",
    "from pathway_sparse_vae import PathwaySparseVAE\n",
    "from pathway_deep_decoder_vae import PathwayDeepDecoderVAE\n",
    "from vanilla_vae import VanillaVAE\n",
    "from utils import *\n",
    "import torch\n",
    "torch.manual_seed(0)\n",
    "np.random.seed(0)\n",
    "import pandas as pd\n",
    "from sklearn.metrics import silhouette_score\n",
    "import umap\n",
    "import scanpy as sc\n",
    "import numpy as np\n",
    "import itertools\n",
    "import matplotlib.pyplot as plt\n",
    "import matplotlib\n",
    "matplotlib.rcParams['pdf.fonttype'] = 42\n",
    "matplotlib.rcParams['ps.fonttype'] = 42\n",
    "matplotlib.rcParams['axes.linewidth'] = .5\n",
    "matplotlib.rcParams['lines.linewidth'] = .5\n",
    "matplotlib.rcParams['patch.linewidth'] = .5\n",
    "import seaborn as sns\n",
    "# Reload data\n",
    "adata_train = sc.read('../data/kang_pbmc.h5ad')\n",
    "# Reload pathway\n",
    "pathway_dict = read_gmt('../data/reactomes.gmt')\n",
    "n = 1\n",
    "pathway_list = list(pathway_dict.keys())+['UNANNOTATED_'+str(k) for k in range(n)]\n",
    "pathway_mask = create_pathway_mask(adata_train.var.index.tolist(), pathway_dict, add_missing=n, fully_connected=True)"
   ]
  },
  {
   "cell_type": "code",
   "execution_count": 2,
   "metadata": {},
   "outputs": [
    {
     "name": "stdout",
     "output_type": "stream",
     "text": [
      "0.5\n",
      "Constraining decoder to positive weights\n",
      "0.5\n",
      "Constraining decoder to positive weights\n",
      "0.5\n",
      "Constraining decoder to positive weights\n",
      "0.5\n",
      "Constraining decoder to positive weights\n",
      "0.5\n",
      "Constraining decoder to positive weights\n",
      "0.5\n",
      "Constraining decoder to positive weights\n",
      "0.5\n",
      "Constraining decoder to positive weights\n",
      "0.5\n",
      "Constraining decoder to positive weights\n",
      "0.5\n",
      "Constraining decoder to positive weights\n",
      "0.5\n",
      "Constraining decoder to positive weights\n"
     ]
    }
   ],
   "source": [
    "# For deep encoder, shallow decoder\n",
    "asw_dict_deep_e_shal_d = {'condition':[], 'ct_ctrl':[], 'ct_stim':[]}\n",
    "path_models = '../trained_models/compare_models/'\n",
    "model_handle = 'vega_fold'\n",
    "list_folds = [f for f in os.listdir(path_models) if model_handle in f]\n",
    "for m in list_folds:\n",
    "    torch.manual_seed(0)\n",
    "    np.random.seed(0)\n",
    "    vae = VEGA(pathway_mask=pathway_mask)\n",
    "    vae.load_state_dict(torch.load(path_models+m,map_location=torch.device('cpu')))\n",
    "    vae.eval()\n",
    "    X_cond = adata_train.X.A\n",
    "    y_cond = adata_train.obs['condition']\n",
    "    X_ct_ctrl = adata_train.X.A[adata_train.obs['condition']=='control',:]\n",
    "    y_ct_ctrl = adata_train.obs['cell_type'][adata_train.obs['condition']=='control']\n",
    "    X_ct_stim = adata_train.X.A[adata_train.obs['condition']=='stimulated',:]\n",
    "    y_ct_stim = adata_train.obs['cell_type'][adata_train.obs['condition']=='stimulated']\n",
    "    # Encode\n",
    "    z_cond = vae.to_latent(torch.Tensor(X_cond)).detach().numpy()\n",
    "    z_ct_ctrl = vae.to_latent(torch.Tensor(X_ct_ctrl)).detach().numpy()\n",
    "    z_ct_stim = vae.to_latent(torch.Tensor(X_ct_stim)).detach().numpy()\n",
    "    # Get silhouette scores\n",
    "    asw_cond = silhouette_score(X=z_cond, labels=y_cond, random_state=42)\n",
    "    asw_ct_ctrl = silhouette_score(X=z_ct_ctrl, labels=y_ct_ctrl, random_state=42)\n",
    "    asw_ct_stim = silhouette_score(X=z_ct_stim, labels=y_ct_stim, random_state=42)\n",
    "    # Append\n",
    "    asw_dict_deep_e_shal_d['condition'].append(asw_cond)\n",
    "    asw_dict_deep_e_shal_d['ct_ctrl'].append(asw_ct_ctrl)\n",
    "    asw_dict_deep_e_shal_d['ct_stim'].append(asw_ct_stim)"
   ]
  },
  {
   "cell_type": "code",
   "execution_count": 3,
   "metadata": {},
   "outputs": [
    {
     "name": "stdout",
     "output_type": "stream",
     "text": [
      "0.5\n",
      "VAE initialized with normal distribution\n",
      "0.5\n",
      "VAE initialized with normal distribution\n",
      "0.5\n",
      "VAE initialized with normal distribution\n",
      "0.5\n",
      "VAE initialized with normal distribution\n",
      "0.5\n",
      "VAE initialized with normal distribution\n",
      "0.5\n",
      "VAE initialized with normal distribution\n",
      "0.5\n",
      "VAE initialized with normal distribution\n",
      "0.5\n",
      "VAE initialized with normal distribution\n",
      "0.5\n",
      "VAE initialized with normal distribution\n",
      "0.5\n",
      "VAE initialized with normal distribution\n"
     ]
    }
   ],
   "source": [
    "# For deep encoder, shallow decoder\n",
    "asw_dict_shal_e_shal_d = {'condition':[], 'ct_ctrl':[], 'ct_stim':[]}\n",
    "path_models = '../trained_models/compare_models/'\n",
    "model_handle = 'sparse_vae_fold'\n",
    "list_folds = [f for f in os.listdir(path_models) if model_handle in f]\n",
    "for m in list_folds:\n",
    "    torch.manual_seed(0)\n",
    "    np.random.seed(0)\n",
    "    vae = PathwaySparseVAE(pathway_mask=pathway_mask)\n",
    "    vae.load_state_dict(torch.load(path_models+m,map_location=torch.device('cpu')))\n",
    "    vae.eval()\n",
    "    X_cond = adata_train.X.A\n",
    "    y_cond = adata_train.obs['condition']\n",
    "    X_ct_ctrl = adata_train.X.A[adata_train.obs['condition']=='control',:]\n",
    "    y_ct_ctrl = adata_train.obs['cell_type'][adata_train.obs['condition']=='control']\n",
    "    X_ct_stim = adata_train.X.A[adata_train.obs['condition']=='stimulated',:]\n",
    "    y_ct_stim = adata_train.obs['cell_type'][adata_train.obs['condition']=='stimulated']\n",
    "    # Encode\n",
    "    z_cond = vae.to_latent(torch.Tensor(X_cond)).detach().numpy()\n",
    "    z_ct_ctrl = vae.to_latent(torch.Tensor(X_ct_ctrl)).detach().numpy()\n",
    "    z_ct_stim = vae.to_latent(torch.Tensor(X_ct_stim)).detach().numpy()\n",
    "    # Get silhouette scores\n",
    "    asw_cond = silhouette_score(X=z_cond, labels=y_cond, random_state=42)\n",
    "    asw_ct_ctrl = silhouette_score(X=z_ct_ctrl, labels=y_ct_ctrl, random_state=42)\n",
    "    asw_ct_stim = silhouette_score(X=z_ct_stim, labels=y_ct_stim, random_state=42)\n",
    "    # Append\n",
    "    asw_dict_shal_e_shal_d['condition'].append(asw_cond)\n",
    "    asw_dict_shal_e_shal_d['ct_ctrl'].append(asw_ct_ctrl)\n",
    "    asw_dict_shal_e_shal_d['ct_stim'].append(asw_ct_stim)"
   ]
  },
  {
   "cell_type": "code",
   "execution_count": 4,
   "metadata": {},
   "outputs": [
    {
     "name": "stdout",
     "output_type": "stream",
     "text": [
      "0.5\n",
      "Constraining encoder to positive weights\n",
      "0.5\n",
      "Constraining encoder to positive weights\n",
      "0.5\n",
      "Constraining encoder to positive weights\n",
      "0.5\n",
      "Constraining encoder to positive weights\n",
      "0.5\n",
      "Constraining encoder to positive weights\n",
      "0.5\n",
      "Constraining encoder to positive weights\n",
      "0.5\n",
      "Constraining encoder to positive weights\n",
      "0.5\n",
      "Constraining encoder to positive weights\n",
      "0.5\n",
      "Constraining encoder to positive weights\n",
      "0.5\n",
      "Constraining encoder to positive weights\n"
     ]
    }
   ],
   "source": [
    "# For shallow encoder, deep decoder\n",
    "asw_dict_shal_e_deep_d = {'condition':[], 'ct_ctrl':[], 'ct_stim':[]}\n",
    "path_models = '../trained_models/compare_models/'\n",
    "model_handle = 'deep_decoder_fold'\n",
    "list_folds = [f for f in os.listdir(path_models) if model_handle in f]\n",
    "for m in list_folds:\n",
    "    torch.manual_seed(0)\n",
    "    np.random.seed(0)\n",
    "    vae = PathwayDeepDecoderVAE(pathway_mask=pathway_mask)\n",
    "    vae.load_state_dict(torch.load(path_models+m, map_location=torch.device('cpu')))\n",
    "    vae.eval()\n",
    "    X_cond = adata_train.X.A\n",
    "    y_cond = adata_train.obs['condition']\n",
    "    X_ct_ctrl = adata_train.X.A[adata_train.obs['condition']=='control',:]\n",
    "    y_ct_ctrl = adata_train.obs['cell_type'][adata_train.obs['condition']=='control']\n",
    "    X_ct_stim = adata_train.X.A[adata_train.obs['condition']=='stimulated',:]\n",
    "    y_ct_stim = adata_train.obs['cell_type'][adata_train.obs['condition']=='stimulated']\n",
    "    # Encode\n",
    "    z_cond = vae.to_latent(torch.Tensor(X_cond)).detach().numpy()\n",
    "    z_ct_ctrl = vae.to_latent(torch.Tensor(X_ct_ctrl)).detach().numpy()\n",
    "    z_ct_stim = vae.to_latent(torch.Tensor(X_ct_stim)).detach().numpy()\n",
    "    # Get silhouette scores\n",
    "    asw_cond = silhouette_score(X=z_cond, labels=y_cond, random_state=42)\n",
    "    asw_ct_ctrl = silhouette_score(X=z_ct_ctrl, labels=y_ct_ctrl, random_state=42)\n",
    "    asw_ct_stim = silhouette_score(X=z_ct_stim, labels=y_ct_stim, random_state=42)\n",
    "    # Append\n",
    "    asw_dict_shal_e_deep_d['condition'].append(asw_cond)\n",
    "    asw_dict_shal_e_deep_d['ct_ctrl'].append(asw_ct_ctrl)\n",
    "    asw_dict_shal_e_deep_d['ct_stim'].append(asw_ct_stim)"
   ]
  },
  {
   "cell_type": "code",
   "execution_count": 5,
   "metadata": {},
   "outputs": [
    {
     "name": "stdout",
     "output_type": "stream",
     "text": [
      "dropout: 0.5\n",
      "dropout: 0.5\n",
      "dropout: 0.5\n",
      "dropout: 0.5\n",
      "dropout: 0.5\n",
      "dropout: 0.5\n",
      "dropout: 0.5\n",
      "dropout: 0.5\n",
      "dropout: 0.5\n",
      "dropout: 0.5\n"
     ]
    }
   ],
   "source": [
    "# For vanilla VAE\n",
    "asw_dict_deep_e_deep_d = {'condition':[], 'ct_ctrl':[], 'ct_stim':[]}\n",
    "path_models = '../trained_models/compare_models/'\n",
    "model_handle = 'vanilla_vae_fold'\n",
    "list_folds = [f for f in os.listdir(path_models) if model_handle in f]\n",
    "for m in list_folds:\n",
    "    torch.manual_seed(0)\n",
    "    np.random.seed(0)\n",
    "    vae = VanillaVAE(n_genes=pathway_mask.shape[0], n_latent=pathway_mask.shape[1], dropout=0.5)\n",
    "    vae.load_state_dict(torch.load(path_models+m, map_location=torch.device('cpu')))\n",
    "    vae.eval()\n",
    "    X_cond = adata_train.X.A\n",
    "    y_cond = adata_train.obs['condition']\n",
    "    X_ct_ctrl = adata_train.X.A[adata_train.obs['condition']=='control',:]\n",
    "    y_ct_ctrl = adata_train.obs['cell_type'][adata_train.obs['condition']=='control']\n",
    "    X_ct_stim = adata_train.X.A[adata_train.obs['condition']=='stimulated',:]\n",
    "    y_ct_stim = adata_train.obs['cell_type'][adata_train.obs['condition']=='stimulated']\n",
    "    # Encode\n",
    "    z_cond = vae.to_latent(torch.Tensor(X_cond)).detach().numpy()\n",
    "    z_ct_ctrl = vae.to_latent(torch.Tensor(X_ct_ctrl)).detach().numpy()\n",
    "    z_ct_stim = vae.to_latent(torch.Tensor(X_ct_stim)).detach().numpy()\n",
    "    # Get silhouette scores\n",
    "    asw_cond = silhouette_score(X=z_cond, labels=y_cond, random_state=42)\n",
    "    asw_ct_ctrl = silhouette_score(X=z_ct_ctrl, labels=y_ct_ctrl, random_state=42)\n",
    "    asw_ct_stim = silhouette_score(X=z_ct_stim, labels=y_ct_stim, random_state=42)\n",
    "    # Append\n",
    "    asw_dict_deep_e_deep_d['condition'].append(asw_cond)\n",
    "    asw_dict_deep_e_deep_d['ct_ctrl'].append(asw_ct_ctrl)\n",
    "    asw_dict_deep_e_deep_d['ct_stim'].append(asw_ct_stim)"
   ]
  },
  {
   "cell_type": "code",
   "execution_count": 12,
   "metadata": {},
   "outputs": [],
   "source": [
    "# Report\n",
    "df_deep_e_shal_d = pd.DataFrame(asw_dict_deep_e_shal_d)\n",
    "df_shal_e_shal_d = pd.DataFrame(asw_dict_shal_e_shal_d)\n",
    "df_shal_e_deep_d = pd.DataFrame(asw_dict_shal_e_deep_d)\n",
    "df_deep_e_deep_d = pd.DataFrame(asw_dict_deep_e_deep_d)\n",
    "full_df = pd.concat((df_shal_e_shal_d, df_deep_e_shal_d, df_shal_e_deep_d, df_deep_e_deep_d))\n",
    "dict_rem = {'ASW':[], 'Metric':[], 'Architecture':[]}\n",
    "full_df.rename(columns={'condition':'Condition', 'ct_ctrl':'Cell type control', 'ct_stim':'Cell type stimulated'}, inplace=True)\n",
    "for k in list(full_df):\n",
    "    dict_rem['ASW']+=full_df[k].tolist()\n",
    "    dict_rem['Metric']+= [k]*len(full_df)\n",
    "    dict_rem['Architecture']+= (['Sparse Encoder+ReLU\\nSparse Decoder']*10+ ['Deep Encoder\\nSparse Decoder']*10 + ['Sparse Encoder\\nDeep Decoder']*10 + ['VAE']*10) \n",
    "    \n",
    "rep_df = pd.DataFrame(dict_rem)"
   ]
  },
  {
   "cell_type": "code",
   "execution_count": 21,
   "metadata": {},
   "outputs": [
    {
     "data": {
      "image/png": "[encoded data removed]",
      "text/plain": [
       "<Figure size 864x720 with 1 Axes>"
      ]
     },
     "metadata": {
      "needs_background": "light"
     },
     "output_type": "display_data"
    }
   ],
   "source": [
    "fig = plt.figure(figsize=[12,10])\n",
    "bar = sns.barplot(x='Architecture', y='ASW', hue='Metric', data=rep_df, palette='deep', errwidth=2.5)\n",
    "leg = plt.legend(borderaxespad=0., fontsize=15, frameon=False, markerscale=2)\n",
    "plt.xlabel('Architecture', fontsize=20)\n",
    "plt.ylabel('Silhouette Score', fontsize=20)\n",
    "plt.xticks(fontsize=15)\n",
    "plt.yticks(fontsize=15)\n",
    "#plt.savefig('../paper/figures/fig-supp-arch-asw.pdf', format='pdf', dpi=300, bbox_inches='tight')"
   ]
  },
  {
   "cell_type": "markdown",
   "metadata": {},
   "source": [
    "### Figure loss"
   ]
  },
  {
   "cell_type": "code",
   "execution_count": 14,
   "metadata": {},
   "outputs": [],
   "source": [
    "def box_plot(data, edge_color, fill_color):\n",
    "    bp = ax.boxplot(data, patch_artist=True)\n",
    "    \n",
    "    for element in ['boxes', 'whiskers', 'fliers', 'means', 'medians', 'caps']:\n",
    "        plt.setp(bp[element], color=edge_color)\n",
    "\n",
    "    for patch in bp['boxes']:\n",
    "        patch.set(facecolor=fill_color)"
   ]
  },
  {
   "cell_type": "code",
   "execution_count": 15,
   "metadata": {},
   "outputs": [],
   "source": [
    "cv_res_shal_e_shal_d = np.load('../trained_models/experiment_1007/10CV_pos_weight_relu_drop05.npy', allow_pickle=True).item()\n",
    "cv_res_deep_e_shal_d = np.load('../trained_models/deep_vae_cv/10CV_deep_norelu_drop05_pos_dec.npy', allow_pickle=True).item()\n",
    "cv_res_shal_e_deep_d = np.load('../trained_models/inverted_vae/10CV_deep_inverted_drop0.5_posenc.npy', allow_pickle=True).item()\n",
    "cv_res_deep_e_deep_d = np.load('../trained_models/deep_vanilla_vae/10CV_deep_vanilla_drop05.npy', allow_pickle=True).item()"
   ]
  },
  {
   "cell_type": "code",
   "execution_count": 22,
   "metadata": {},
   "outputs": [
    {
     "data": {
      "image/png": "[encoded data removed]",
      "text/plain": [
       "<Figure size 864x720 with 1 Axes>"
      ]
     },
     "metadata": {
      "needs_background": "light"
     },
     "output_type": "display_data"
    }
   ],
   "source": [
    "mat_loss= np.array([[v['best_valid_loss'] for v in cv_res_shal_e_shal_d.values()],\n",
    "                    [v['best_valid_loss'] for v in cv_res_deep_e_shal_d.values()],\n",
    "                    [v['best_valid_loss'] for v in cv_res_shal_e_deep_d.values()],\n",
    "                    [v['best_valid_loss'] for v in cv_res_deep_e_deep_d.values()]])\n",
    "fig, ax = plt.subplots(figsize=[12,10])\n",
    "box_plot(mat_loss.T, '#1f4161', '#78b0e8')\n",
    "plt.xlabel('Architecture', fontsize=20)\n",
    "plt.ylabel('Best validation loss', fontsize=20)\n",
    "plt.tick_params(labelsize=15)\n",
    "ticks = plt.xticks(ticks=np.arange(1,5),\n",
    "                   labels=['Sparse Encoder+ReLU\\nSparse Decoder', 'Deep Encoder\\nSparse Decoder', 'Sparse Encoder\\nDeep Decoder', 'VAE']\n",
    "                   , fontsize=15)\n",
    "#plt.savefig('../paper/figures/fig-supp-arch-loss.pdf', format='pdf', dpi=300, bbox_inches='tight')"
   ]
  },
  {
   "cell_type": "code",
   "execution_count": null,
   "metadata": {},
   "outputs": [],
   "source": []
  }
 ],
 "metadata": {
  "kernelspec": {
   "display_name": "Python 3",
   "language": "python",
   "name": "python3"
  },
  "language_info": {
   "codemirror_mode": {
    "name": "ipython",
    "version": 3
   },
   "file_extension": ".py",
   "mimetype": "text/x-python",
   "name": "python",
   "nbconvert_exporter": "python",
   "pygments_lexer": "ipython3",
   "version": "3.7.6"
  }
 },
 "nbformat": 4,
 "nbformat_minor": 4
}
